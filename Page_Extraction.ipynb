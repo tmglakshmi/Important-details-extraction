{
  "nbformat": 4,
  "nbformat_minor": 0,
  "metadata": {
    "colab": {
      "name": "Page Extraction.ipynb",
      "provenance": [],
      "collapsed_sections": [],
      "authorship_tag": "ABX9TyNClaXDsHbEf4JhGVKXWwmZ",
      "include_colab_link": true
    },
    "kernelspec": {
      "name": "python3",
      "display_name": "Python 3"
    },
    "language_info": {
      "name": "python"
    }
  },
  "cells": [
    {
      "cell_type": "markdown",
      "metadata": {
        "id": "view-in-github",
        "colab_type": "text"
      },
      "source": [
        "<a href=\"https://colab.research.google.com/github/tmglakshmi/Important-details-extraction/blob/main/Page_Extraction.ipynb\" target=\"_parent\"><img src=\"https://colab.research.google.com/assets/colab-badge.svg\" alt=\"Open In Colab\"/></a>"
      ]
    },
    {
      "cell_type": "code",
      "execution_count": null,
      "metadata": {
        "colab": {
          "base_uri": "https://localhost:8080/"
        },
        "id": "UD4cI9om1cdT",
        "outputId": "624395a0-ce2e-4bbe-a761-737fd00181da"
      },
      "outputs": [
        {
          "output_type": "stream",
          "name": "stdout",
          "text": [
            "Looking in indexes: https://pypi.org/simple, https://us-python.pkg.dev/colab-wheels/public/simple/\n",
            "Requirement already satisfied: PyPDF2 in /usr/local/lib/python3.7/dist-packages (2.5.0)\n",
            "Requirement already satisfied: typing-extensions in /usr/local/lib/python3.7/dist-packages (from PyPDF2) (4.1.1)\n"
          ]
        }
      ],
      "source": [
        "!pip install PyPDF2"
      ]
    },
    {
      "cell_type": "code",
      "source": [
        "import PyPDF2 as pdf"
      ],
      "metadata": {
        "id": "f3qqrM5K2KH6"
      },
      "execution_count": null,
      "outputs": []
    },
    {
      "cell_type": "code",
      "source": [
        "file = open('NLP.pdf','rb')"
      ],
      "metadata": {
        "id": "YOqkx2d92R_Q"
      },
      "execution_count": null,
      "outputs": []
    },
    {
      "cell_type": "code",
      "source": [
        "file"
      ],
      "metadata": {
        "colab": {
          "base_uri": "https://localhost:8080/"
        },
        "id": "EzMkgWT82kef",
        "outputId": "479354db-4933-4eaf-a463-866f465a11ed"
      },
      "execution_count": null,
      "outputs": [
        {
          "output_type": "execute_result",
          "data": {
            "text/plain": [
              "<_io.BufferedReader name='NLP.pdf'>"
            ]
          },
          "metadata": {},
          "execution_count": 21
        }
      ]
    },
    {
      "cell_type": "code",
      "source": [
        "pdf_reader = pdf.PdfFileReader(file)"
      ],
      "metadata": {
        "id": "Rapvg8X-2nAW"
      },
      "execution_count": null,
      "outputs": []
    },
    {
      "cell_type": "code",
      "source": [
        "pdf_reader"
      ],
      "metadata": {
        "colab": {
          "base_uri": "https://localhost:8080/"
        },
        "id": "HbNiufxC21LQ",
        "outputId": "98eb4918-07df-4f0f-b276-7a6330186c4d"
      },
      "execution_count": null,
      "outputs": [
        {
          "output_type": "execute_result",
          "data": {
            "text/plain": [
              "<PyPDF2._reader.PdfFileReader at 0x7f2240c383d0>"
            ]
          },
          "metadata": {},
          "execution_count": 6
        }
      ]
    },
    {
      "cell_type": "code",
      "source": [
        "help(pdf_reader)"
      ],
      "metadata": {
        "colab": {
          "base_uri": "https://localhost:8080/"
        },
        "id": "K4Uv3yhb25TH",
        "outputId": "351498a1-c911-42b1-b5dc-456fe746a607"
      },
      "execution_count": null,
      "outputs": [
        {
          "output_type": "stream",
          "name": "stdout",
          "text": [
            "Help on PdfFileReader in module PyPDF2._reader object:\n",
            "\n",
            "class PdfFileReader(PdfReader)\n",
            " |  PdfFileReader(*args: Any, **kwargs: Any) -> None\n",
            " |  \n",
            " |  Initialize a PdfReader object.\n",
            " |  \n",
            " |  This operation can take some time, as the PDF stream's cross-reference\n",
            " |  tables are read into memory.\n",
            " |  \n",
            " |  :param stream: A File object or an object that supports the standard read\n",
            " |      and seek methods similar to a File object. Could also be a\n",
            " |      string representing a path to a PDF file.\n",
            " |  :param bool strict: Determines whether user should be warned of all\n",
            " |      problems and also causes some correctable problems to be fatal.\n",
            " |      Defaults to ``False``.\n",
            " |  :param None/str/bytes password: Decrypt PDF file at initialization. If the\n",
            " |      password is None, the file will not be decrypted.\n",
            " |      Defaults to ``None``\n",
            " |  \n",
            " |  Method resolution order:\n",
            " |      PdfFileReader\n",
            " |      PdfReader\n",
            " |      builtins.object\n",
            " |  \n",
            " |  Methods defined here:\n",
            " |  \n",
            " |  __init__(self, *args: Any, **kwargs: Any) -> None\n",
            " |      Initialize self.  See help(type(self)) for accurate signature.\n",
            " |  \n",
            " |  ----------------------------------------------------------------------\n",
            " |  Methods inherited from PdfReader:\n",
            " |  \n",
            " |  cacheGetIndirectObject(self, generation: int, idnum: int) -> Union[PyPDF2.generic.PdfObject, NoneType]\n",
            " |      .. deprecated:: 1.28.0\n",
            " |      \n",
            " |          Use :meth:`cache_get_indirect_object` instead.\n",
            " |  \n",
            " |  cacheIndirectObject(self, generation: int, idnum: int, obj: Union[PyPDF2.generic.PdfObject, NoneType]) -> Union[PyPDF2.generic.PdfObject, NoneType]\n",
            " |      .. deprecated:: 1.28.0\n",
            " |      \n",
            " |          Use :meth:`cache_indirect_object` instead.\n",
            " |  \n",
            " |  cache_get_indirect_object(self, generation: int, idnum: int) -> Union[PyPDF2.generic.PdfObject, NoneType]\n",
            " |  \n",
            " |  cache_indirect_object(self, generation: int, idnum: int, obj: Union[PyPDF2.generic.PdfObject, NoneType]) -> Union[PyPDF2.generic.PdfObject, NoneType]\n",
            " |  \n",
            " |  decode_permissions(self, permissions_code: int) -> Dict[str, bool]\n",
            " |  \n",
            " |  decrypt(self, password: Union[str, bytes]) -> PyPDF2._encryption.PasswordType\n",
            " |      When using an encrypted / secured PDF file with the PDF Standard\n",
            " |      encryption handler, this function will allow the file to be decrypted.\n",
            " |      It checks the given password against the document's user password and\n",
            " |      owner password, and then stores the resulting decryption key if either\n",
            " |      password is correct.\n",
            " |      \n",
            " |      It does not matter which password was matched.  Both passwords provide\n",
            " |      the correct decryption key that will allow the document to be used with\n",
            " |      this library.\n",
            " |      \n",
            " |      :param str password: The password to match.\n",
            " |      :return: `PasswordType`.\n",
            " |  \n",
            " |  getDestinationPageNumber(self, destination: PyPDF2.generic.Destination) -> int\n",
            " |      .. deprecated:: 1.28.0\n",
            " |      \n",
            " |          Use :meth:`get_destination_page_number` instead.\n",
            " |  \n",
            " |  getDocumentInfo(self) -> Union[PyPDF2._reader.DocumentInformation, NoneType]\n",
            " |      .. deprecated:: 1.28.0\n",
            " |      \n",
            " |          Use the attribute :py:attr:`metadata` instead.\n",
            " |  \n",
            " |  getFields(self, tree: Union[PyPDF2.generic.TreeObject, NoneType] = None, retval: Union[Dict[Any, Any], NoneType] = None, fileobj: Union[Any, NoneType] = None) -> Union[Dict[str, Any], NoneType]\n",
            " |      .. deprecated:: 1.28.0\n",
            " |      \n",
            " |          Use :meth:`get_fields` instead.\n",
            " |  \n",
            " |  getFormTextFields(self) -> Dict[str, Any]\n",
            " |      .. deprecated:: 1.28.0\n",
            " |      \n",
            " |          Use :meth:`get_form_text_fields` instead.\n",
            " |  \n",
            " |  getIsEncrypted(self) -> bool\n",
            " |      .. deprecated:: 1.28.0\n",
            " |      \n",
            " |          Use :py:attr:`is_encrypted` instead.\n",
            " |  \n",
            " |  getNamedDestinations(self, tree: Union[PyPDF2.generic.TreeObject, NoneType] = None, retval: Union[Any, NoneType] = None) -> Dict[str, Any]\n",
            " |      .. deprecated:: 1.28.0\n",
            " |      \n",
            " |          Use :py:attr:`named_destinations` instead.\n",
            " |  \n",
            " |  getNumPages(self) -> int\n",
            " |      .. deprecated:: 1.28.0\n",
            " |      \n",
            " |          Use :code:`len(reader.pages)` instead.\n",
            " |  \n",
            " |  getObject(self, indirectReference: PyPDF2.generic.IndirectObject) -> Union[PyPDF2.generic.PdfObject, NoneType]\n",
            " |      .. deprecated:: 1.28.0\n",
            " |      \n",
            " |          Use :meth:`get_object` instead.\n",
            " |  \n",
            " |  getOutlines(self, node: Union[PyPDF2.generic.DictionaryObject, NoneType] = None, outlines: Union[Any, NoneType] = None) -> List[Union[PyPDF2.generic.Destination, List[Union[PyPDF2.generic.Destination, List[PyPDF2.generic.Destination]]]]]\n",
            " |      .. deprecated:: 1.28.0\n",
            " |      \n",
            " |          Use :py:attr:`outlines` instead.\n",
            " |  \n",
            " |  getPage(self, pageNumber: int) -> PyPDF2._page.PageObject\n",
            " |      .. deprecated:: 1.28.0\n",
            " |      \n",
            " |          Use :code:`reader.pages[pageNumber]` instead.\n",
            " |  \n",
            " |  getPageLayout(self) -> Union[str, NoneType]\n",
            " |      .. deprecated:: 1.28.0\n",
            " |      \n",
            " |          Use :py:attr:`page_layout` instead.\n",
            " |  \n",
            " |  getPageMode(self) -> Union[typing_extensions.Literal['/UseNone', '/UseOutlines', '/UseThumbs', '/FullScreen', '/UseOC', '/UseAttachments'], NoneType]\n",
            " |      .. deprecated:: 1.28.0\n",
            " |      \n",
            " |          Use :py:attr:`page_mode` instead.\n",
            " |  \n",
            " |  getPageNumber(self, page: PyPDF2._page.PageObject) -> int\n",
            " |      .. deprecated:: 1.28.0\n",
            " |      \n",
            " |          Use :meth:`get_page_number` instead.\n",
            " |  \n",
            " |  getXmpMetadata(self) -> Union[PyPDF2.xmp.XmpInformation, NoneType]\n",
            " |      .. deprecated:: 1.28.0\n",
            " |      \n",
            " |          Use the attribute :py:attr:`xmp_metadata` instead.\n",
            " |  \n",
            " |  get_destination_page_number(self, destination: PyPDF2.generic.Destination) -> int\n",
            " |      Retrieve page number of a given Destination object.\n",
            " |      \n",
            " |      :param Destination destination: The destination to get page number.\n",
            " |      :return: the page number or -1 if page not found\n",
            " |  \n",
            " |  get_fields(self, tree: Union[PyPDF2.generic.TreeObject, NoneType] = None, retval: Union[Dict[Any, Any], NoneType] = None, fileobj: Union[Any, NoneType] = None) -> Union[Dict[str, Any], NoneType]\n",
            " |      Extract field data if this PDF contains interactive form fields.\n",
            " |      \n",
            " |      The *tree* and *retval* parameters are for recursive use.\n",
            " |      \n",
            " |      :param fileobj: A file object (usually a text file) to write\n",
            " |          a report to on all interactive form fields found.\n",
            " |      :return: A dictionary where each key is a field name, and each\n",
            " |          value is a :class:`Field<PyPDF2.generic.Field>` object. By\n",
            " |          default, the mapping name is used for keys.\n",
            " |          ``None`` if form data could not be located.\n",
            " |  \n",
            " |  get_form_text_fields(self) -> Dict[str, Any]\n",
            " |      Retrieve form fields from the document with textual data.\n",
            " |      \n",
            " |      The key is the name of the form field, the value is the content of the\n",
            " |      field.\n",
            " |      \n",
            " |      If the document contains multiple form fields with the same name, the\n",
            " |      second and following will get the suffix _2, _3, ...\n",
            " |  \n",
            " |  get_object(self, indirect_reference: PyPDF2.generic.IndirectObject) -> Union[PyPDF2.generic.PdfObject, NoneType]\n",
            " |  \n",
            " |  get_page_number(self, page: PyPDF2._page.PageObject) -> int\n",
            " |      Retrieve page number of a given PageObject\n",
            " |      \n",
            " |      :param PageObject page: The page to get page number. Should be\n",
            " |          an instance of :class:`PageObject<PyPDF2._page.PageObject>`\n",
            " |      :return: the page number or -1 if page not found\n",
            " |  \n",
            " |  read(self, stream: Union[_io.BytesIO, _io.BufferedReader, _io.BufferedWriter, _io.FileIO]) -> None\n",
            " |  \n",
            " |  readNextEndLine(self, stream: Union[_io.BytesIO, _io.BufferedReader, _io.BufferedWriter, _io.FileIO], limit_offset: int = 0) -> bytes\n",
            " |      .. deprecated:: 1.28.0\n",
            " |  \n",
            " |  readObjectHeader(self, stream: Union[_io.BytesIO, _io.BufferedReader, _io.BufferedWriter, _io.FileIO]) -> Tuple[int, int]\n",
            " |      .. deprecated:: 1.28.0\n",
            " |      \n",
            " |          Use :meth:`read_object_header` instead.\n",
            " |  \n",
            " |  read_next_end_line(self, stream: Union[_io.BytesIO, _io.BufferedReader, _io.BufferedWriter, _io.FileIO], limit_offset: int = 0) -> bytes\n",
            " |      .. deprecated:: 2.1.0\n",
            " |  \n",
            " |  read_object_header(self, stream: Union[_io.BytesIO, _io.BufferedReader, _io.BufferedWriter, _io.FileIO]) -> Tuple[int, int]\n",
            " |  \n",
            " |  ----------------------------------------------------------------------\n",
            " |  Data descriptors inherited from PdfReader:\n",
            " |  \n",
            " |  __dict__\n",
            " |      dictionary for instance variables (if defined)\n",
            " |  \n",
            " |  __weakref__\n",
            " |      list of weak references to the object (if defined)\n",
            " |  \n",
            " |  documentInfo\n",
            " |      .. deprecated:: 1.28.0\n",
            " |      \n",
            " |          Use the attribute :py:attr:`metadata` instead.\n",
            " |  \n",
            " |  isEncrypted\n",
            " |      .. deprecated:: 1.28.0\n",
            " |      \n",
            " |          Use :py:attr:`is_encrypted` instead.\n",
            " |  \n",
            " |  is_encrypted\n",
            " |      Read-only boolean property showing whether this PDF file is encrypted.\n",
            " |      Note that this property, if true, will remain true even after the\n",
            " |      :meth:`decrypt()<PyPDF2.PdfReader.decrypt>` method is called.\n",
            " |  \n",
            " |  metadata\n",
            " |      Retrieve the PDF file's document information dictionary, if it exists.\n",
            " |      Note that some PDF files use metadata streams instead of docinfo\n",
            " |      dictionaries, and these metadata streams will not be accessed by this\n",
            " |      function.\n",
            " |      \n",
            " |      :return: the document information of this PDF file\n",
            " |  \n",
            " |  namedDestinations\n",
            " |      .. deprecated:: 1.28.0\n",
            " |      \n",
            " |          Use :py:attr:`named_destinations` instead.\n",
            " |  \n",
            " |  named_destinations\n",
            " |      A read-only dictionary which maps names to\n",
            " |      :class:`Destinations<PyPDF2.generic.Destination>`\n",
            " |  \n",
            " |  numPages\n",
            " |      .. deprecated:: 1.28.0\n",
            " |      \n",
            " |          Use :code:`len(reader.pages)` instead.\n",
            " |  \n",
            " |  outlines\n",
            " |      Read-only property for outlines present in the document.\n",
            " |      \n",
            " |      :return: a nested list of :class:`Destinations<PyPDF2.generic.Destination>`.\n",
            " |  \n",
            " |  pageLayout\n",
            " |      .. deprecated:: 1.28.0\n",
            " |      \n",
            " |          Use :py:attr:`page_layout` instead.\n",
            " |  \n",
            " |  pageMode\n",
            " |      .. deprecated:: 1.28.0\n",
            " |      \n",
            " |          Use :py:attr:`page_mode` instead.\n",
            " |  \n",
            " |  page_layout\n",
            " |      Get the page layout.\n",
            " |      \n",
            " |      :return: Page layout currently being used.\n",
            " |      \n",
            " |      .. list-table:: Valid ``layout`` values\n",
            " |         :widths: 50 200\n",
            " |      \n",
            " |         * - /NoLayout\n",
            " |           - Layout explicitly not specified\n",
            " |         * - /SinglePage\n",
            " |           - Show one page at a time\n",
            " |         * - /OneColumn\n",
            " |           - Show one column at a time\n",
            " |         * - /TwoColumnLeft\n",
            " |           - Show pages in two columns, odd-numbered pages on the left\n",
            " |         * - /TwoColumnRight\n",
            " |           - Show pages in two columns, odd-numbered pages on the right\n",
            " |         * - /TwoPageLeft\n",
            " |           - Show two pages at a time, odd-numbered pages on the left\n",
            " |         * - /TwoPageRight\n",
            " |           - Show two pages at a time, odd-numbered pages on the right\n",
            " |  \n",
            " |  page_mode\n",
            " |      Get the page mode.\n",
            " |      \n",
            " |      :return: Page mode currently being used.\n",
            " |      \n",
            " |      .. list-table:: Valid ``mode`` values\n",
            " |         :widths: 50 200\n",
            " |      \n",
            " |         * - /UseNone\n",
            " |           - Do not show outlines or thumbnails panels\n",
            " |         * - /UseOutlines\n",
            " |           - Show outlines (aka bookmarks) panel\n",
            " |         * - /UseThumbs\n",
            " |           - Show page thumbnails panel\n",
            " |         * - /FullScreen\n",
            " |           - Fullscreen view\n",
            " |         * - /UseOC\n",
            " |           - Show Optional Content Group (OCG) panel\n",
            " |         * - /UseAttachments\n",
            " |           - Show attachments panel\n",
            " |  \n",
            " |  pages\n",
            " |      Read-only property that emulates a list of :py:class:`Page<PyPDF2._page.Page>` objects.\n",
            " |  \n",
            " |  pdf_header\n",
            " |  \n",
            " |  xfa\n",
            " |  \n",
            " |  xmpMetadata\n",
            " |      .. deprecated:: 1.28.0\n",
            " |      \n",
            " |          Use the attribute :py:attr:`xmp_metadata` instead.\n",
            " |  \n",
            " |  xmp_metadata\n",
            " |      XMP (Extensible Metadata Platform) data\n",
            " |      \n",
            " |      :return: a :class:`XmpInformation<xmp.XmpInformation>`\n",
            " |          instance that can be used to access XMP metadata from the document.\n",
            " |          or ``None`` if no metadata was found on the document root.\n",
            "\n"
          ]
        }
      ]
    },
    {
      "cell_type": "code",
      "source": [
        "pdf_reader.getIsEncrypted()"
      ],
      "metadata": {
        "colab": {
          "base_uri": "https://localhost:8080/"
        },
        "id": "2gqawfb73BfO",
        "outputId": "666f1c06-0482-4538-fbcb-d34d46cd9cd7"
      },
      "execution_count": null,
      "outputs": [
        {
          "output_type": "execute_result",
          "data": {
            "text/plain": [
              "False"
            ]
          },
          "metadata": {},
          "execution_count": 8
        }
      ]
    },
    {
      "cell_type": "code",
      "source": [
        "pdf_reader.getNumPages()\n",
        "\n"
      ],
      "metadata": {
        "colab": {
          "base_uri": "https://localhost:8080/"
        },
        "id": "9Bmewye-3c2s",
        "outputId": "b67aafd5-99eb-470c-b70f-0bf546d3e389"
      },
      "execution_count": null,
      "outputs": [
        {
          "output_type": "execute_result",
          "data": {
            "text/plain": [
              "26"
            ]
          },
          "metadata": {},
          "execution_count": 9
        }
      ]
    },
    {
      "cell_type": "code",
      "source": [
        "page1 = pdf_reader.getPage(0)"
      ],
      "metadata": {
        "id": "BHCeVFIs30dU"
      },
      "execution_count": null,
      "outputs": []
    },
    {
      "cell_type": "code",
      "source": [
        "page1.extractText()"
      ],
      "metadata": {
        "colab": {
          "base_uri": "https://localhost:8080/",
          "height": 174
        },
        "id": "_Naa7OxR4F-d",
        "outputId": "deb389c7-7041-4974-8b2a-b8011cf04376"
      },
      "execution_count": null,
      "outputs": [
        {
          "output_type": "execute_result",
          "data": {
            "text/plain": [
              "'See discussions, stats, and author profiles for this publication at: \\nhttps://www.researchgate.net/publication/319164243\\nNatural Language Processing: State of The Art, Cu rrent Trends and Challenges\\nArticle\\n · August 2017\\nCITATIONS\\n105\\n\\nREADS\\n50,192\\n4 authors\\n, including:\\nSome of the authors of this publication are also working on these related projects:\\n\\nLognormal distribution from Bayesian view point\\n \\nView project\\n\\nOptimal censoring: a numerical approach using inbuilt R package\\n \\nView project\\n\\n\\nKiran Khatter\\nBML MUNJAL UNIVERSITY\\n30\\n \\nPUBLICATIONS\\n\\xa0\\xa0\\xa0\\n273\\n \\nCITATIONS\\n\\xa0\\xa0\\xa0\\nSEE PROFILE\\n\\n\\nSukhdev Singh\\nAmity University Punjab\\n20\\n \\nPUBLICATIONS\\n\\xa0\\xa0\\xa0\\n352\\n \\nCITATIONS\\n\\xa0\\xa0\\xa0\\nSEE PROFILE\\nAll content following this page was uploaded by \\nKiran Khatter\\n on 01 April 2018.\\nThe user has requested enhancement of the downloaded file.'"
            ],
            "application/vnd.google.colaboratory.intrinsic+json": {
              "type": "string"
            }
          },
          "metadata": {},
          "execution_count": 11
        }
      ]
    },
    {
      "cell_type": "code",
      "source": [
        "page2 = pdf_reader.getPage(1)"
      ],
      "metadata": {
        "id": "ey_IS-vU4OHq"
      },
      "execution_count": null,
      "outputs": []
    },
    {
      "cell_type": "code",
      "source": [
        "page2.extractText()"
      ],
      "metadata": {
        "colab": {
          "base_uri": "https://localhost:8080/",
          "height": 192
        },
        "id": "tHtqGVJP453d",
        "outputId": "563c2880-19d8-4d9b-c7f1-61856828d466"
      },
      "execution_count": null,
      "outputs": [
        {
          "output_type": "execute_result",
          "data": {
            "text/plain": [
              "'Natural Language Processing:  State of The Art, Current Trends and \\nChallenges \\n\\nDiksha Khurana\\n1\\n, Aditya Koli\\n1\\n, Kiran Khatter\\n1,2 \\nand Sukhdev Singh\\n1,2 \\n1\\nDepartment of Computer Science and Engineering  \\nManav Rachna International University, Faridabad -121004, India \\n\\n2\\nAccendere Knowledge Management Services Pvt. Ltd., India  \\n\\n \\nAbstract  \\n\\nNatural language processing (NLP) has recently gained much attention for representing and \\nanalysing human  language  computationally. It  has  spread  its  applications  in  various  fields \\nsuch  as  machine  translation,  email  spam  detection,  information  extraction,  summarization, \\nmedical,  and  question  answering  etc. The  paper  distinguishes  four  phases  by  discussing \\ndifferent levels of NLP and components of \\nN\\natural \\nL\\nanguage \\nG\\neneration (NLG) followed by \\npresenting the  history  and  evolution  of  NLP, state  of  the  art  presenting  the various \\napplications of NLP and current trends and challenges.  \\n \\n\\n1.\\n \\nIntroduction \\n\\nN\\natural \\nL\\nanguage \\nP\\nrocessing (NLP) is  a tract of Artificial Intelligence  and Linguistics, \\ndevoted to make computers understand the statements or words written in human languages. \\nNatural language processing came into existence to ease the user\\n’\\ns work and to satisfy the \\nwish to communicate with the computer in natural language. Since all the users may not be \\nwell-versed in machine specific language, NLP caters those users who do not have enough \\ntime to learn new languages or get perfection  in it.  \\nA language can be defined as a set of rules or set of symbol. Symbol are combined and used \\nfor  conveying  information  or  broadcasting  the  information. Symbols are tyrannized  by  the \\nRules.  Natural  Language  Processing basically  can  be  classified  into two  parts i.e. \\nNatural \\nLanguage Understanding\\n and \\nNatural  Language  Generation\\n which  evolves the task  to \\nunderstand and generate the text (Figure 1) .  '"
            ],
            "application/vnd.google.colaboratory.intrinsic+json": {
              "type": "string"
            }
          },
          "metadata": {},
          "execution_count": 13
        }
      ]
    },
    {
      "cell_type": "markdown",
      "source": [
        "**Append Write or Merge PDF**"
      ],
      "metadata": {
        "id": "vN4Fs21xA6wU"
      }
    },
    {
      "cell_type": "code",
      "source": [
        "pdf_writer = pdf.PdfFileWriter()"
      ],
      "metadata": {
        "id": "VqA9ltlbBH_a"
      },
      "execution_count": null,
      "outputs": []
    },
    {
      "cell_type": "code",
      "source": [
        "pdf_writer.addPage(page1)"
      ],
      "metadata": {
        "id": "RAxAT_IABT5Z"
      },
      "execution_count": null,
      "outputs": []
    },
    {
      "cell_type": "code",
      "source": [
        "pdf_writer.addPage(page2)"
      ],
      "metadata": {
        "id": "wjiUrsEaCWwi"
      },
      "execution_count": null,
      "outputs": []
    },
    {
      "cell_type": "code",
      "source": [
        "output = open('Pages.pdf','wb')\n",
        "pdf_writer.write(output)\n",
        "output.close()"
      ],
      "metadata": {
        "id": "9XdiJleiBjIq"
      },
      "execution_count": null,
      "outputs": []
    }
  ]
}